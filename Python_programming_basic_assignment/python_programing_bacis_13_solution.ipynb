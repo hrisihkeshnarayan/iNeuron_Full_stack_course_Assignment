{
 "cells": [
  {
   "cell_type": "markdown",
   "metadata": {},
   "source": [
    "# HRISHIKESH NARAYAN"
   ]
  },
  {
   "cell_type": "code",
   "execution_count": null,
   "metadata": {},
   "outputs": [],
   "source": []
  },
  {
   "cell_type": "markdown",
   "metadata": {},
   "source": [
    "# Question 1:\n",
    "\n",
    "## Write a program that calculates and prints the value according to the given formula:\n",
    "\n",
    "## Q = Square root of [(2 * C * D)/H]\n",
    "\n",
    "## Following are the fixed values of C and H:\n",
    "\n",
    "## C is 50. H is 30.\n",
    "\n",
    "## D is the variable whose values should be input to your program in a comma-separated sequence.\n"
   ]
  },
  {
   "cell_type": "code",
   "execution_count": 15,
   "metadata": {},
   "outputs": [
    {
     "name": "stdout",
     "output_type": "stream",
     "text": [
      "Enter the number5\n",
      "Value is :  16.67\n"
     ]
    }
   ],
   "source": [
    "def cal_value(D, C=50, H=30):\n",
    "    return round(((2*C*D)/H),2)\n",
    "\n",
    "num = int(input(\"Enter the number\"))\n",
    "a = cal_value(num)\n",
    "print(\"Value is : \",a)\n",
    "\n",
    "\n"
   ]
  },
  {
   "cell_type": "code",
   "execution_count": 3,
   "metadata": {},
   "outputs": [
    {
     "name": "stdout",
     "output_type": "stream",
     "text": [
      "33.33\n",
      "66.67\n",
      "100.0\n",
      "16.67\n",
      "183.33\n",
      "150.0\n",
      "183.33\n",
      "180.0\n"
     ]
    }
   ],
   "source": [
    "def cal_value(*args):\n",
    "    C = 50\n",
    "    H = 30\n",
    "    for i in args:\n",
    "        \n",
    "        print(round(((2*C*i)/H),2))\n",
    "\n",
    "#num = int(input(\"Enter the number\"))\n",
    "cal_value(10,20,30,5,55,45,55,54)\n",
    "\n",
    "\n",
    "\n"
   ]
  },
  {
   "cell_type": "code",
   "execution_count": null,
   "metadata": {},
   "outputs": [],
   "source": []
  },
  {
   "cell_type": "markdown",
   "metadata": {},
   "source": [
    "# Question 2:\n",
    "## Write a program which takes 2 digits, X,Y as input and generates a 2-dimensional array. The element value in the i-th row and j-th column of the array should be i*j.\n",
    "\n",
    "## Note: i=0,1.., X-1; j=0,1,¡¬Y-1.\n",
    "\n"
   ]
  },
  {
   "cell_type": "code",
   "execution_count": 2,
   "metadata": {},
   "outputs": [],
   "source": [
    "def gen_array(X, Y):\n",
    "    l = []\n",
    "    for i in range(X):\n",
    "        m = []\n",
    "        for j in range(Y):\n",
    "            m.append(i*j)\n",
    "        l.append(m)\n",
    "    return l\n",
    "            \n",
    "            "
   ]
  },
  {
   "cell_type": "code",
   "execution_count": 4,
   "metadata": {},
   "outputs": [
    {
     "data": {
      "text/plain": [
       "[[0, 0, 0, 0, 0], [0, 1, 2, 3, 4], [0, 2, 4, 6, 8]]"
      ]
     },
     "execution_count": 4,
     "metadata": {},
     "output_type": "execute_result"
    }
   ],
   "source": [
    "gen_array(3,5)"
   ]
  },
  {
   "cell_type": "code",
   "execution_count": null,
   "metadata": {},
   "outputs": [],
   "source": []
  },
  {
   "cell_type": "markdown",
   "metadata": {},
   "source": [
    "# Question 3:\n",
    "## Write a program that accepts a comma separated sequence of words as input and prints the words in a comma-separated sequence after sorting them alphabetically.\n"
   ]
  },
  {
   "cell_type": "code",
   "execution_count": 7,
   "metadata": {},
   "outputs": [],
   "source": [
    "def sort_val(*args):\n",
    "    k = sorted(args)\n",
    "    return k\n",
    "    "
   ]
  },
  {
   "cell_type": "code",
   "execution_count": 8,
   "metadata": {},
   "outputs": [
    {
     "data": {
      "text/plain": [
       "['aoi', 'eoie', 'kehwe', 'neuihee', 'pej']"
      ]
     },
     "execution_count": 8,
     "metadata": {},
     "output_type": "execute_result"
    }
   ],
   "source": [
    "sort_val(\"pej\",\"kehwe\",\"neuihee\",\"eoie\",\"aoi\")"
   ]
  },
  {
   "cell_type": "markdown",
   "metadata": {},
   "source": [
    "# Question 4:\n",
    "## Write a program that accepts a sequence of whitespace separated words as input and prints the words after removing all duplicate words and sorting them alphanumerically."
   ]
  },
  {
   "cell_type": "code",
   "execution_count": 13,
   "metadata": {},
   "outputs": [],
   "source": [
    "def word_sort(stri):\n",
    "    l = stri.split()\n",
    "    l = list(set(l))\n",
    "    l.sort()\n",
    "    s = \" \".join(l)\n",
    "    return s\n",
    "    "
   ]
  },
  {
   "cell_type": "code",
   "execution_count": 14,
   "metadata": {},
   "outputs": [
    {
     "data": {
      "text/plain": [
       "'again and hello makes perfect practice world'"
      ]
     },
     "execution_count": 14,
     "metadata": {},
     "output_type": "execute_result"
    }
   ],
   "source": [
    "word_sort(\"hello world and practice makes perfect and hello world again\")"
   ]
  },
  {
   "cell_type": "markdown",
   "metadata": {},
   "source": [
    "# Question 5:\n",
    "    \n",
    "## Write a program that accepts a sentence and calculate the number of letters and digits."
   ]
  },
  {
   "cell_type": "code",
   "execution_count": 18,
   "metadata": {},
   "outputs": [],
   "source": [
    "def count_let_word(stri):\n",
    "    l = 0\n",
    "    w = 0\n",
    "    for i in stri:\n",
    "        if i.isnumeric():\n",
    "            w = w + 1\n",
    "        elif i.isalpha():\n",
    "            l = l + 1\n",
    "    print(\"LETTERS : \",l)\n",
    "    print(\"DIGITS : \",w)"
   ]
  },
  {
   "cell_type": "code",
   "execution_count": 19,
   "metadata": {},
   "outputs": [
    {
     "name": "stdout",
     "output_type": "stream",
     "text": [
      "LETTERS :  10\n",
      "DIGITS :  3\n"
     ]
    }
   ],
   "source": [
    "count_let_word(\"hello world! 123\")"
   ]
  },
  {
   "cell_type": "markdown",
   "metadata": {},
   "source": [
    "# Question 6:\n",
    "## A website requires the users to input username and password to register. Write a program to check the validity of password input by users.\n",
    "\n",
    "## Following are the criteria for checking the password:\n",
    "\n",
    "## 1. At least 1 letter between [a-z]\n",
    "\n",
    "## 2. At least 1 number between [0-9]\n",
    "\n",
    "## 3. At least 1 letter between [A-Z]\n",
    "\n",
    "## 3. At least 1 character from [$#@]\n",
    "\n",
    "## 4. Minimum length of transaction password: 6\n",
    "\n",
    "## 5. Maximum length of transaction password: 12\n",
    "\n",
    "### Your program should accept a sequence of comma separated passwords and will check them according to the above criteria. Passwords that match the criteria are to be printed, each separated by a comma.\n"
   ]
  },
  {
   "cell_type": "code",
   "execution_count": 20,
   "metadata": {},
   "outputs": [],
   "source": [
    "import re"
   ]
  },
  {
   "cell_type": "code",
   "execution_count": 28,
   "metadata": {},
   "outputs": [],
   "source": [
    "pas = re.compile(r'\\d\\D[$#@]')"
   ]
  },
  {
   "cell_type": "code",
   "execution_count": 29,
   "metadata": {},
   "outputs": [
    {
     "data": {
      "text/plain": [
       "[]"
      ]
     },
     "execution_count": 29,
     "metadata": {},
     "output_type": "execute_result"
    }
   ],
   "source": [
    "pas.findall('ABd1234@1,a F1#,2w3E*,2We3345')"
   ]
  },
  {
   "cell_type": "code",
   "execution_count": null,
   "metadata": {},
   "outputs": [],
   "source": []
  }
 ],
 "metadata": {
  "kernelspec": {
   "display_name": "Python 3",
   "language": "python",
   "name": "python3"
  },
  "language_info": {
   "codemirror_mode": {
    "name": "ipython",
    "version": 3
   },
   "file_extension": ".py",
   "mimetype": "text/x-python",
   "name": "python",
   "nbconvert_exporter": "python",
   "pygments_lexer": "ipython3",
   "version": "3.8.5"
  }
 },
 "nbformat": 4,
 "nbformat_minor": 4
}
