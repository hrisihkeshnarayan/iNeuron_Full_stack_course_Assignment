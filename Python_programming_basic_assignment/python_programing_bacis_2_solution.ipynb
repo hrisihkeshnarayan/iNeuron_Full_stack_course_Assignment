{
 "cells": [
  {
   "cell_type": "markdown",
   "metadata": {},
   "source": [
    "# HRISHIKESH NARAYAN"
   ]
  },
  {
   "cell_type": "code",
   "execution_count": null,
   "metadata": {},
   "outputs": [],
   "source": []
  },
  {
   "cell_type": "markdown",
   "metadata": {},
   "source": [
    "# 1.Write a Python program to convert kilometers to miles?"
   ]
  },
  {
   "cell_type": "code",
   "execution_count": 1,
   "metadata": {},
   "outputs": [
    {
     "name": "stdout",
     "output_type": "stream",
     "text": [
      "Enter distance in kilometer : 50\n",
      "Distance in miles is :  31.069999999999997\n"
     ]
    }
   ],
   "source": [
    "a = int(input(\"Enter distance in kilometer : \"))\n",
    "b= a*0.6214 \n",
    "print(\"Distance in miles is : \",b)"
   ]
  },
  {
   "cell_type": "markdown",
   "metadata": {},
   "source": [
    "# 2.Write a Python program to convert Celsius to Fahrenheit?"
   ]
  },
  {
   "cell_type": "code",
   "execution_count": 3,
   "metadata": {},
   "outputs": [
    {
     "name": "stdout",
     "output_type": "stream",
     "text": [
      "Enter temperature in Celsius :0\n",
      "Temperature in Fahrenheit is :  32.0\n"
     ]
    }
   ],
   "source": [
    "# (0°C × 9/5) + 32 = 32°F\n",
    "\n",
    "a = int(input(\"Enter temperature in Celsius :\"))\n",
    "b = (a*(9/5)) + 32\n",
    "print(\"Temperature in Fahrenheit is : \",b)"
   ]
  },
  {
   "cell_type": "markdown",
   "metadata": {},
   "source": [
    "# 3.Write a Python program to display calendar?"
   ]
  },
  {
   "cell_type": "code",
   "execution_count": 1,
   "metadata": {},
   "outputs": [
    {
     "name": "stdout",
     "output_type": "stream",
     "text": [
      "Enter year: 2021\n",
      "Enter month: 3\n",
      "     March 2021\n",
      "Mo Tu We Th Fr Sa Su\n",
      " 1  2  3  4  5  6  7\n",
      " 8  9 10 11 12 13 14\n",
      "15 16 17 18 19 20 21\n",
      "22 23 24 25 26 27 28\n",
      "29 30 31\n",
      "\n"
     ]
    }
   ],
   "source": [
    "\n",
    "import calendar\n",
    "\n",
    "\n",
    "# To take month and year input from the user\n",
    "yy = int(input(\"Enter year: \"))\n",
    "mm = int(input(\"Enter month: \"))\n",
    "\n",
    "\n",
    "print(calendar.month(yy, mm))"
   ]
  },
  {
   "cell_type": "code",
   "execution_count": null,
   "metadata": {},
   "outputs": [],
   "source": []
  },
  {
   "cell_type": "markdown",
   "metadata": {},
   "source": [
    "# 4.Write a Python program to solve quadratic equation?"
   ]
  },
  {
   "cell_type": "code",
   "execution_count": 16,
   "metadata": {},
   "outputs": [
    {
     "name": "stdout",
     "output_type": "stream",
     "text": [
      "Enter a 1\n",
      "Enter b 4\n",
      "Enter c 4\n",
      "Roots are :  -2.0   and   -2.0\n"
     ]
    }
   ],
   "source": [
    "import math as m\n",
    "a = int(input(\"Enter a \" ))\n",
    "b = int(input(\"Enter b \" ))\n",
    "c = int(input(\"Enter c \" ))\n",
    "d = (b*b - 4*a*c)\n",
    "x = 0\n",
    "y = 0\n",
    "if d >=0:\n",
    "    d = m.sqrt(d)\n",
    "    x = ((-b) + d)/(2*a)\n",
    "    y = ((-b) - d)/(2*a)\n",
    "    print(\"Roots are : \",x,\"  and  \",y)\n",
    "else:\n",
    "    d = -d\n",
    "    d = m.sqrt(d)\n",
    "    x = ((-b) + d)/(2*a)\n",
    "    y = ((-b) - d)/(2*a)\n",
    "   \n",
    "    print(\"Roots are : \",x,\" + \",b,\"i\",\"  and  \",x,\" - \",b\"i\")\n",
    "\n",
    "         \n",
    "\n"
   ]
  },
  {
   "cell_type": "markdown",
   "metadata": {},
   "source": [
    "# 5.Write a Python program to swap two variables without temp variable?\n"
   ]
  },
  {
   "cell_type": "code",
   "execution_count": 17,
   "metadata": {},
   "outputs": [
    {
     "name": "stdout",
     "output_type": "stream",
     "text": [
      "Enter first number : 5\n",
      "Enter second number : 10\n",
      "First number after swap :  10.0\n",
      "Second number after swap :  5.0\n"
     ]
    }
   ],
   "source": [
    "a = int(input(\"Enter first number : \"))\n",
    "b = int(input(\"Enter second number : \"))\n",
    "\n",
    "a= a*b\n",
    "b=a/b\n",
    "a = a/b\n",
    "print(\"First number after swap : \",a)\n",
    "print(\"Second number after swap : \",b)\n"
   ]
  },
  {
   "cell_type": "code",
   "execution_count": null,
   "metadata": {},
   "outputs": [],
   "source": []
  }
 ],
 "metadata": {
  "kernelspec": {
   "display_name": "Python 3",
   "language": "python",
   "name": "python3"
  },
  "language_info": {
   "codemirror_mode": {
    "name": "ipython",
    "version": 3
   },
   "file_extension": ".py",
   "mimetype": "text/x-python",
   "name": "python",
   "nbconvert_exporter": "python",
   "pygments_lexer": "ipython3",
   "version": "3.8.5"
  }
 },
 "nbformat": 4,
 "nbformat_minor": 4
}
