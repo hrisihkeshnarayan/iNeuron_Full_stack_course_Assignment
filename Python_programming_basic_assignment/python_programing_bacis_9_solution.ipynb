{
 "cells": [
  {
   "cell_type": "markdown",
   "metadata": {},
   "source": [
    "# HRISHIKESH NARAYAN"
   ]
  },
  {
   "cell_type": "code",
   "execution_count": null,
   "metadata": {},
   "outputs": [],
   "source": []
  },
  {
   "cell_type": "code",
   "execution_count": null,
   "metadata": {},
   "outputs": [],
   "source": []
  },
  {
   "cell_type": "markdown",
   "metadata": {},
   "source": [
    "# 1.\tWrite a Python program to check if the given number is a Disarium Number?"
   ]
  },
  {
   "cell_type": "code",
   "execution_count": 1,
   "metadata": {},
   "outputs": [
    {
     "name": "stdout",
     "output_type": "stream",
     "text": [
      "Enter a number :89\n",
      "YES\n"
     ]
    }
   ],
   "source": [
    "num1 = int(input(\"Enter a number :\"))\n",
    "a = num1\n",
    "sum = 0\n",
    "while(a>0):\n",
    "    b = len(str(a))\n",
    "    k = a%10\n",
    "    sum = sum + k**(b)\n",
    "    #print(sum)\n",
    "    a = a//10\n",
    "if sum == num1:\n",
    "    print(\"YES\")\n",
    "else:\n",
    "    print(\"NO\")"
   ]
  },
  {
   "cell_type": "markdown",
   "metadata": {},
   "source": [
    "# 2.\tWrite a Python program to print all disarium numbers between 1 to 100?"
   ]
  },
  {
   "cell_type": "code",
   "execution_count": 8,
   "metadata": {},
   "outputs": [
    {
     "data": {
      "text/plain": [
       "[1, 2, 3, 4, 5, 6, 7, 8, 9, 89]"
      ]
     },
     "execution_count": 8,
     "metadata": {},
     "output_type": "execute_result"
    }
   ],
   "source": [
    "l = []\n",
    "for i in range(1,101):\n",
    "    sum = 0\n",
    "    a = i\n",
    "    while(a>0):\n",
    "        b = len(str(a))\n",
    "        k = a%10\n",
    "        sum = sum + k**(b)\n",
    "        #print(sum)\n",
    "        a = a//10\n",
    "    if sum == i:\n",
    "        l.append(i)\n",
    "l"
   ]
  },
  {
   "cell_type": "code",
   "execution_count": null,
   "metadata": {},
   "outputs": [],
   "source": []
  },
  {
   "cell_type": "markdown",
   "metadata": {},
   "source": [
    "# 3.\tWrite a Python program to check if the given number is Happy Number?"
   ]
  },
  {
   "cell_type": "code",
   "execution_count": 9,
   "metadata": {},
   "outputs": [
    {
     "name": "stdout",
     "output_type": "stream",
     "text": [
      "13 is a Happy number\n"
     ]
    }
   ],
   "source": [
    "def numSquareSum(n):\n",
    "    squareSum = 0;\n",
    "    while(n):\n",
    "        squareSum += (n % 10) * (n % 10);\n",
    "        n = int(n / 10);\n",
    "    return squareSum;\n",
    "  \n",
    "\n",
    "def isHappynumber(n):\n",
    "  \n",
    "    \n",
    "    slow = n;\n",
    "    fast = n;\n",
    "    while(True):\n",
    "          \n",
    "        \n",
    "        slow = numSquareSum(slow);\n",
    "  \n",
    "        \n",
    "        fast = numSquareSum(numSquareSum(fast));\n",
    "        if(slow != fast):\n",
    "            continue;\n",
    "        else:\n",
    "            break;\n",
    "  \n",
    "    \n",
    "    return (slow == 1);\n",
    "  \n",
    "n = 13;\n",
    "if (isHappynumber(n)):\n",
    "    print(n , \"is a Happy number\");\n",
    "else:\n",
    "    print(n , \"is not a Happy number\");\n",
    "  \n"
   ]
  },
  {
   "cell_type": "markdown",
   "metadata": {},
   "source": [
    "# 4.\tWrite a Python program to print all happy numbers between 1 and 100?"
   ]
  },
  {
   "cell_type": "code",
   "execution_count": 13,
   "metadata": {},
   "outputs": [
    {
     "data": {
      "text/plain": [
       "[1, 7, 10, 13, 19, 23, 28, 31, 32, 44, 49, 68, 70, 79, 82, 86, 91, 94, 97, 100]"
      ]
     },
     "execution_count": 13,
     "metadata": {},
     "output_type": "execute_result"
    }
   ],
   "source": [
    "def numSquareSum(n):\n",
    "    squareSum = 0;\n",
    "    while(n):\n",
    "        squareSum += (n % 10) * (n % 10);\n",
    "        n = int(n / 10);\n",
    "    return squareSum;\n",
    "  \n",
    "\n",
    "def isHappynumber(n):\n",
    "  \n",
    "    \n",
    "    slow = n;\n",
    "    fast = n;\n",
    "    while(True):\n",
    "          \n",
    "        \n",
    "        slow = numSquareSum(slow);\n",
    "  \n",
    "        \n",
    "        fast = numSquareSum(numSquareSum(fast));\n",
    "        if(slow != fast):\n",
    "            continue;\n",
    "        else:\n",
    "            break;\n",
    "  \n",
    "    \n",
    "    return (slow == 1);\n",
    "l = []  \n",
    "for i in range(1,101):\n",
    "    if (isHappynumber(i)):\n",
    "        l.append(i)\n",
    "l"
   ]
  },
  {
   "cell_type": "markdown",
   "metadata": {},
   "source": [
    "# 5.\tWrite a Python program to determine whether the given number is a Harshad Number?"
   ]
  },
  {
   "cell_type": "code",
   "execution_count": 15,
   "metadata": {},
   "outputs": [
    {
     "name": "stdout",
     "output_type": "stream",
     "text": [
      "Enter a number :12\n",
      "YES\n"
     ]
    }
   ],
   "source": [
    "num = int(input(\"Enter a number :\"))\n",
    "a = str(num)\n",
    "sum = 0\n",
    "for i in a:\n",
    "    sum = sum + int(i)\n",
    "    #print(sum)\n",
    "if num%sum==0:\n",
    "    print(\"YES\")\n",
    "else:\n",
    "    print(\"NO\")"
   ]
  },
  {
   "cell_type": "markdown",
   "metadata": {},
   "source": [
    "# 6.\tWrite a Python program to print all pronic numbers between 1 and 100?\n"
   ]
  },
  {
   "cell_type": "code",
   "execution_count": 17,
   "metadata": {},
   "outputs": [
    {
     "name": "stdout",
     "output_type": "stream",
     "text": [
      "0\n",
      "2\n",
      "6\n",
      "12\n",
      "20\n",
      "30\n",
      "42\n",
      "56\n",
      "72\n",
      "90\n"
     ]
    }
   ],
   "source": [
    "def checkPronic (x) :\n",
    " \n",
    "    i = 0\n",
    "    while ( i <= (int)(x*x) ) :\n",
    "        if ( x == i * (i + 1)) :\n",
    "            return True\n",
    "        i = i + 1\n",
    " \n",
    "    return False\n",
    " \n",
    "# Driver Code\n",
    " \n",
    "# Printing Pronic\n",
    "# Numbers upto 200\n",
    "i = 0\n",
    "while (i <= 100 ) :\n",
    "    if checkPronic(i) :\n",
    "        print(i)\n",
    "    i = i + 1"
   ]
  },
  {
   "cell_type": "code",
   "execution_count": null,
   "metadata": {},
   "outputs": [],
   "source": []
  }
 ],
 "metadata": {
  "kernelspec": {
   "display_name": "Python 3",
   "language": "python",
   "name": "python3"
  },
  "language_info": {
   "codemirror_mode": {
    "name": "ipython",
    "version": 3
   },
   "file_extension": ".py",
   "mimetype": "text/x-python",
   "name": "python",
   "nbconvert_exporter": "python",
   "pygments_lexer": "ipython3",
   "version": "3.8.5"
  }
 },
 "nbformat": 4,
 "nbformat_minor": 4
}
