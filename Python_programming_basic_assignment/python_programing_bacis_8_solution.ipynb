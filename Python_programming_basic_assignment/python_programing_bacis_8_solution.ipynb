{
 "cells": [
  {
   "cell_type": "markdown",
   "metadata": {},
   "source": [
    "# HRISHIKESH NARAYAN"
   ]
  },
  {
   "cell_type": "code",
   "execution_count": null,
   "metadata": {},
   "outputs": [],
   "source": []
  },
  {
   "cell_type": "markdown",
   "metadata": {},
   "source": [
    "\n",
    "\n",
    "\n",
    "\n"
   ]
  },
  {
   "cell_type": "markdown",
   "metadata": {},
   "source": [
    "# 1.\tWrite a Python Program to Add Two Matrices?"
   ]
  },
  {
   "cell_type": "code",
   "execution_count": 5,
   "metadata": {},
   "outputs": [
    {
     "name": "stdout",
     "output_type": "stream",
     "text": [
      "Enter number of rows : 2\n",
      "Enter number of columns : 2\n",
      "Enter data for 1st matrix : \n",
      "Enter data : \n",
      "1\n",
      "Enter data : \n",
      "2\n",
      "Enter data : \n",
      "3\n",
      "Enter data : \n",
      "4\n",
      "Enter data for 2st matrix : \n",
      "Enter data : \n",
      "1\n",
      "Enter data : \n",
      "2\n",
      "Enter data : \n",
      "3\n",
      "Enter data : \n",
      "4\n"
     ]
    },
    {
     "data": {
      "text/plain": [
       "array([[2, 4],\n",
       "       [6, 8]])"
      ]
     },
     "execution_count": 5,
     "metadata": {},
     "output_type": "execute_result"
    }
   ],
   "source": [
    "import numpy as np\n",
    "def sum_array(l1,l2,rows,cols):\n",
    "    sum = 0\n",
    "    k = []\n",
    "    a = np.array(l1).reshape(rows,cols)\n",
    "    b = np.array(l2).reshape(rows,cols)\n",
    "    for i in range(int(rows)):\n",
    "        for j in range(int(cols)):\n",
    "             k.append(a[i][j] + b[i][j])\n",
    "    return k\n",
    "            \n",
    "    \n",
    "\n",
    "\n",
    "\n",
    "\n",
    "row = int(input(\"Enter number of rows : \"))\n",
    "col = int(input(\"Enter number of columns : \"))\n",
    "l1 = []\n",
    "l2 = []\n",
    "print(\"Enter data for 1st matrix : \")\n",
    "for i in range(int(row*col)):\n",
    "    print(\"Enter data : \")\n",
    "    a= int(input())\n",
    "    l1.append(a)\n",
    "    \n",
    "print(\"Enter data for 2st matrix : \")\n",
    "for i in range(row*col):\n",
    "    print(\"Enter data : \")\n",
    "    a= int(input())\n",
    "    l2.append(a)\n",
    "    \n",
    "b = sum_array(l1,l2,row,col)\n",
    "b = np.array(b).reshape(row,col)  \n",
    "b"
   ]
  },
  {
   "cell_type": "markdown",
   "metadata": {},
   "source": [
    "# 2.\tWrite a Python Program to Multiply Two Matrices?"
   ]
  },
  {
   "cell_type": "code",
   "execution_count": 24,
   "metadata": {},
   "outputs": [
    {
     "name": "stdout",
     "output_type": "stream",
     "text": [
      "Enter number of rows for 1st matrix: 2\n",
      "Enter number of columns for 1st matrix : 2\n",
      "Enter data for 1st matrix : \n",
      "Enter data : \n",
      "1\n",
      "Enter data : \n",
      "2\n",
      "Enter data : \n",
      "3\n",
      "Enter data : \n",
      "4\n",
      "Enter number of rows for 2st matrix: 2\n",
      "Enter number of columns for 2st matrix : 2\n",
      "Enter data for 2st matrix : \n",
      "Enter data : \n",
      "4\n",
      "Enter data : \n",
      "3\n",
      "Enter data : \n",
      "2\n",
      "Enter data : \n",
      "1\n",
      "Data is : \n",
      "1 2 \n",
      "3 4 \n",
      "Data is : \n",
      "4 3 \n",
      "2 1 \n",
      "After multiplication :\n",
      "Data is : \n",
      "8 5 \n",
      "20 13 \n"
     ]
    }
   ],
   "source": [
    "import numpy as np\n",
    "def display(arr,m,n):\n",
    "    a = np.array(arr).reshape(m,n)\n",
    "    print(\"Data is : \")\n",
    "    \n",
    "    for i in range(int(m)):\n",
    "        for j in range(int(n)):\n",
    "            print(a[i][j],end = \" \")\n",
    "        print()\n",
    "\n",
    "def arr_mul(arr1,arr2,m1,n1,m2,n2):\n",
    "    l=[]\n",
    "    a = np.array(arr1).reshape(m1,n1)\n",
    "    b = np.array(arr2).reshape(m2,n2)\n",
    "    for i in range(m1):\n",
    "        for j in range(n2):\n",
    "            sum=0\n",
    "            for k in range(n1):\n",
    "                sum = sum + a[i][k]*b[k][j]\n",
    "            l.append(sum)\n",
    "            \n",
    "    print(\"After multiplication :\")\n",
    "    display(l,m1,n2)\n",
    "     \n",
    "    \n",
    "    \n",
    "\n",
    "\n",
    "\n",
    "row1 = int(input(\"Enter number of rows for 1st matrix: \"))\n",
    "col1 = int(input(\"Enter number of columns for 1st matrix : \"))\n",
    "l1 = []\n",
    "l2 = []\n",
    "print(\"Enter data for 1st matrix : \")\n",
    "for i in range(int(row1*col1)):\n",
    "    print(\"Enter data : \")\n",
    "    a= int(input())\n",
    "    l1.append(a)\n",
    "row2 = int(input(\"Enter number of rows for 2st matrix: \"))\n",
    "col2 = int(input(\"Enter number of columns for 2st matrix : \"))    \n",
    "print(\"Enter data for 2st matrix : \")\n",
    "for i in range(row2*col2):\n",
    "    print(\"Enter data : \")\n",
    "    a= int(input())\n",
    "    l2.append(a)\n",
    "    \n",
    "display(l1,row1,col1)\n",
    "display(l2,row2,col2)\n",
    "if col1 !=row1:\n",
    "    print(\"Invalid input\")\n",
    "else:\n",
    "    arr_mul(l1,l2,row1,col1,row2,col2)"
   ]
  },
  {
   "cell_type": "code",
   "execution_count": null,
   "metadata": {},
   "outputs": [],
   "source": []
  },
  {
   "cell_type": "markdown",
   "metadata": {},
   "source": [
    "# 3.\tWrite a Python Program to Transpose a Matrix?"
   ]
  },
  {
   "cell_type": "code",
   "execution_count": 17,
   "metadata": {},
   "outputs": [
    {
     "name": "stdout",
     "output_type": "stream",
     "text": [
      "Enter number of rows : 3\n",
      "Enter number of columns : 3\n",
      "Enter data for 1st matrix : \n",
      "Enter data : \n",
      "1\n",
      "Enter data : \n",
      "2\n",
      "Enter data : \n",
      "3\n",
      "Enter data : \n",
      "4\n",
      "Enter data : \n",
      "5\n",
      "Enter data : \n",
      "6\n",
      "Enter data : \n",
      "7\n",
      "Enter data : \n",
      "8\n",
      "Enter data : \n",
      "9\n",
      "Before : \n",
      "1 2 3 \n",
      "4 5 6 \n",
      "7 8 9 \n",
      "After :\n",
      "1 4 7 \n",
      "2 5 8 \n",
      "3 6 9 \n"
     ]
    }
   ],
   "source": [
    "import numpy as np\n",
    "def sum_array(l1,rows,cols):\n",
    "    \n",
    "    a = np.array(l1).reshape(rows,cols)\n",
    "     \n",
    "    for i in range(int(rows)):\n",
    "        for j in range(int(cols)):\n",
    "            if i <= j:\n",
    "                temp = a[i][j]\n",
    "                a[i][j] = a[j][i]\n",
    "                a[j][i] = temp\n",
    "    return a\n",
    "    \n",
    "\n",
    "\n",
    "\n",
    "row = int(input(\"Enter number of rows : \"))\n",
    "col = int(input(\"Enter number of columns : \"))\n",
    "l1 = []\n",
    "print(\"Enter data for 1st matrix : \")\n",
    "for i in range(int(row*col)):\n",
    "    print(\"Enter data : \")\n",
    "    a= int(input())\n",
    "    l1.append(a)\n",
    "    \n",
    "a = np.array(l1).reshape(row,col)\n",
    "print(\"Before : \")\n",
    "for i in range(int(row)):\n",
    "        for j in range(int(col)):\n",
    "            print(a[i][j],end = \" \")\n",
    "        print()  \n",
    "print(\"After :\")\n",
    "b = sum_array(l1,row,col)\n",
    "for i in range(int(row)):\n",
    "        for j in range(int(col)):\n",
    "            print(b[i][j],end = \" \")\n",
    "        print()"
   ]
  },
  {
   "cell_type": "markdown",
   "metadata": {},
   "source": [
    "# 4.\tWrite a Python Program to Sort Words in Alphabetic Order?"
   ]
  },
  {
   "cell_type": "code",
   "execution_count": 19,
   "metadata": {},
   "outputs": [
    {
     "name": "stdout",
     "output_type": "stream",
     "text": [
      "The sorted words are:\n",
      "an\n",
      "cased\n",
      "example\n",
      "hello\n",
      "is\n",
      "letters\n",
      "this\n",
      "with\n"
     ]
    }
   ],
   "source": [
    " \n",
    "\n",
    "my_str = \"Hello this Is an Example With cased letters\"\n",
    "\n",
    " \n",
    "words = [word.lower() for word in my_str.split()]\n",
    "\n",
    "# sort the list\n",
    "words.sort()\n",
    "\n",
    "# display the sorted words\n",
    "\n",
    "print(\"The sorted words are:\")\n",
    "for word in words:\n",
    "   print(word)"
   ]
  },
  {
   "cell_type": "markdown",
   "metadata": {},
   "source": [
    "# 5.\tWrite a Python Program to Remove Punctuation From a String?"
   ]
  },
  {
   "cell_type": "code",
   "execution_count": 5,
   "metadata": {},
   "outputs": [
    {
     "name": "stdout",
     "output_type": "stream",
     "text": [
      "Enter a string: \"Hello!!!, he said ---and went.\"\n",
      "Hello he said and went\n"
     ]
    }
   ],
   "source": [
    "# define punctuation\n",
    "punctuations = '''!()-[]{};:'\"\\,<>./?@#$%^&*_~'''\n",
    "\n",
    " \n",
    "\n",
    "\n",
    "my_str = input(\"Enter a string: \")\n",
    "\n",
    "# remove punctuation from the string\n",
    "no_punct = \"\"\n",
    "for char in my_str:\n",
    "   if char not in punctuations:\n",
    "       no_punct = no_punct + char\n",
    "\n",
    "\n",
    "print(no_punct)"
   ]
  },
  {
   "cell_type": "code",
   "execution_count": null,
   "metadata": {},
   "outputs": [],
   "source": []
  },
  {
   "cell_type": "code",
   "execution_count": null,
   "metadata": {},
   "outputs": [],
   "source": []
  }
 ],
 "metadata": {
  "kernelspec": {
   "display_name": "Python 3",
   "language": "python",
   "name": "python3"
  },
  "language_info": {
   "codemirror_mode": {
    "name": "ipython",
    "version": 3
   },
   "file_extension": ".py",
   "mimetype": "text/x-python",
   "name": "python",
   "nbconvert_exporter": "python",
   "pygments_lexer": "ipython3",
   "version": "3.8.5"
  }
 },
 "nbformat": 4,
 "nbformat_minor": 4
}
