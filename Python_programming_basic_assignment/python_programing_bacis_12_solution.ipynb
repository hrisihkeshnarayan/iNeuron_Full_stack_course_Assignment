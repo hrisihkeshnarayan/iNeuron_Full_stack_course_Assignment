{
 "cells": [
  {
   "cell_type": "markdown",
   "metadata": {},
   "source": [
    "# HRISHIKESH NARAYAN"
   ]
  },
  {
   "cell_type": "markdown",
   "metadata": {},
   "source": [
    "# 1.\tWrite a Python program to Extract Unique values dictionary values?"
   ]
  },
  {
   "cell_type": "code",
   "execution_count": 5,
   "metadata": {},
   "outputs": [
    {
     "data": {
      "text/plain": [
       "[1, 2, 3, 4, 5]"
      ]
     },
     "execution_count": 5,
     "metadata": {},
     "output_type": "execute_result"
    }
   ],
   "source": [
    "def unique_find(dic):\n",
    "    return list(set(dic.values()))\n",
    "\n",
    "di = { \"a\" : 1, \"b\" : 2, \"c\" : 3 ,\"d\" : 4 , \"e\" : 5, \"f\" : 1, \"g\" : 2, \"h\" : 3 ,\"i\" : 4 , \"j\" : 5 }\n",
    "\n",
    "a = unique_find(di)\n",
    "a"
   ]
  },
  {
   "cell_type": "markdown",
   "metadata": {},
   "source": [
    "# 2.\tWrite a Python program to find the sum of all items in a dictionary?"
   ]
  },
  {
   "cell_type": "code",
   "execution_count": 6,
   "metadata": {},
   "outputs": [
    {
     "data": {
      "text/plain": [
       "30"
      ]
     },
     "execution_count": 6,
     "metadata": {},
     "output_type": "execute_result"
    }
   ],
   "source": [
    "def sum_dic(dic):\n",
    "    return sum(dic.values())\n",
    "sum_dic(di)"
   ]
  },
  {
   "cell_type": "markdown",
   "metadata": {},
   "source": [
    "#    3.\tWrite a Python program to Merging two Dictionaries?\n",
    "    "
   ]
  },
  {
   "cell_type": "code",
   "execution_count": 48,
   "metadata": {},
   "outputs": [
    {
     "data": {
      "text/plain": [
       "{'name': ['hrishi', 'ankit', 'avinash', 'ayu', 'adi'],\n",
       " 'marks': [1, 2, 3, 4, 5],\n",
       " 'a': 1,\n",
       " 'b': 2,\n",
       " 'c': 3,\n",
       " 'd': 4,\n",
       " 'e': 5,\n",
       " 'f': 1,\n",
       " 'g': 2,\n",
       " 'h': 3,\n",
       " 'i': 4,\n",
       " 'j': 5}"
      ]
     },
     "execution_count": 48,
     "metadata": {},
     "output_type": "execute_result"
    }
   ],
   "source": [
    "def mur2_dic(d1,d2):\n",
    "    \n",
    "    return dict(list(d1.items()) + list(d2.items()))\n",
    "mur2_dic(dic,di)"
   ]
  },
  {
   "cell_type": "markdown",
   "metadata": {},
   "source": [
    "# 4.\tWrite a Python program to convert key-values list to flat dictionary?"
   ]
  },
  {
   "cell_type": "code",
   "execution_count": 3,
   "metadata": {},
   "outputs": [
    {
     "data": {
      "text/plain": [
       "zip"
      ]
     },
     "execution_count": 3,
     "metadata": {},
     "output_type": "execute_result"
    }
   ],
   "source": [
    "dic = {\"name\" : [\"hrishi\", \"ankit\", \"avinash\",\"ayu\",\"adi\"], \"marks\" : [1,2,3,4,5]}\n",
    "\n",
    "a = zip(dic[\"name\"], dic[\"marks\"])\n",
    "d = {}\n",
    "for i in a:\n",
    "    d[i[0]] = i[1]\n",
    "d\n"
   ]
  },
  {
   "cell_type": "code",
   "execution_count": 10,
   "metadata": {},
   "outputs": [
    {
     "data": {
      "text/plain": [
       "{'hrishi': 1, 'ankit': 2, 'avinash': 3, 'ayu': 4, 'adi': 5}"
      ]
     },
     "execution_count": 10,
     "metadata": {},
     "output_type": "execute_result"
    }
   ],
   "source": [
    "dic = {\"name\" : [\"hrishi\", \"ankit\", \"avinash\",\"ayu\",\"adi\"], \"marks\" : [1,2,3,4,5]}\n",
    "\n",
    "a = dict(zip(dic[\"name\"], dic[\"marks\"]))\n",
    "\n",
    "a"
   ]
  },
  {
   "cell_type": "markdown",
   "metadata": {},
   "source": [
    "# 5.\tWrite a Python program to insertion at the beginning in OrderedDict?"
   ]
  },
  {
   "cell_type": "code",
   "execution_count": null,
   "metadata": {},
   "outputs": [],
   "source": []
  },
  {
   "cell_type": "markdown",
   "metadata": {},
   "source": [
    "# 6.\tWrite a Python program to check order of character in string using OrderedDict()?"
   ]
  },
  {
   "cell_type": "code",
   "execution_count": null,
   "metadata": {},
   "outputs": [],
   "source": []
  },
  {
   "cell_type": "markdown",
   "metadata": {},
   "source": [
    "# 7.\tWrite a Python program to sort Python Dictionaries by Key or Value?"
   ]
  },
  {
   "cell_type": "code",
   "execution_count": 56,
   "metadata": {},
   "outputs": [
    {
     "data": {
      "text/plain": [
       "{'a': 10,\n",
       " 'b': 9,\n",
       " 'c': 8,\n",
       " 'd': 7,\n",
       " 'e': 6,\n",
       " 'k': 1,\n",
       " 'l': 5,\n",
       " 'n': 2,\n",
       " 'p': 3,\n",
       " 'r': 4}"
      ]
     },
     "execution_count": 56,
     "metadata": {},
     "output_type": "execute_result"
    }
   ],
   "source": [
    "di = { \"k\" : 1, \"n\" : 2, \"p\" : 3 ,\"r\" : 4 , \"l\" : 5, \"e\" : 6, \"d\" : 7, \"c\" : 8 ,\"b\" : 9 , \"a\" : 10 }\n",
    "a = list(di.items())\n",
    "\n",
    "a.sort()\n",
    "dict(a)"
   ]
  },
  {
   "cell_type": "code",
   "execution_count": null,
   "metadata": {},
   "outputs": [],
   "source": []
  }
 ],
 "metadata": {
  "kernelspec": {
   "display_name": "Python 3",
   "language": "python",
   "name": "python3"
  },
  "language_info": {
   "codemirror_mode": {
    "name": "ipython",
    "version": 3
   },
   "file_extension": ".py",
   "mimetype": "text/x-python",
   "name": "python",
   "nbconvert_exporter": "python",
   "pygments_lexer": "ipython3",
   "version": "3.8.5"
  }
 },
 "nbformat": 4,
 "nbformat_minor": 4
}
