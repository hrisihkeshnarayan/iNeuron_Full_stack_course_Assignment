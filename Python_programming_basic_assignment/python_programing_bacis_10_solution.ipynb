{
 "cells": [
  {
   "cell_type": "markdown",
   "metadata": {},
   "source": [
    "# HRISHIKESH NARAYAN"
   ]
  },
  {
   "cell_type": "code",
   "execution_count": null,
   "metadata": {},
   "outputs": [],
   "source": []
  },
  {
   "cell_type": "markdown",
   "metadata": {},
   "source": [
    "# 1.\tWrite a Python program to find sum of elements in list?"
   ]
  },
  {
   "cell_type": "code",
   "execution_count": null,
   "metadata": {},
   "outputs": [],
   "source": [
    "def sum_array(arr):\n",
    "    sum = 0\n",
    "    for i in arr:\n",
    "        sum = sum + i\n",
    "    return sum\n",
    "\n",
    "l = []\n",
    "n = int(input(\"Enter the number of element you want to insert : \"))\n",
    "for i in range(n):\n",
    "    a = int(input(\"Enter  Number : \"))\n",
    "    l.append(a)\n",
    "    \n",
    "print(\"Sum of all the element in lsit is : \",sum_array(l))"
   ]
  },
  {
   "cell_type": "code",
   "execution_count": null,
   "metadata": {},
   "outputs": [],
   "source": []
  },
  {
   "cell_type": "markdown",
   "metadata": {},
   "source": [
    "# 2.\tWrite a Python program to  Multiply all numbers in the list?"
   ]
  },
  {
   "cell_type": "code",
   "execution_count": null,
   "metadata": {},
   "outputs": [],
   "source": [
    "def sum_array(arr):\n",
    "    sum = 1\n",
    "    for i in arr:\n",
    "        sum = sum * i\n",
    "    return sum\n",
    "\n",
    "l = []\n",
    "n = int(input(\"Enter the number of element you want to insert : \"))\n",
    "for i in range(n):\n",
    "    a = int(input(\"Enter  Number : \"))\n",
    "    l.append(a)\n",
    "    \n",
    "print(\"Multiplication of all the element in lsit is : \",sum_array(l))"
   ]
  },
  {
   "cell_type": "code",
   "execution_count": null,
   "metadata": {},
   "outputs": [],
   "source": []
  },
  {
   "cell_type": "markdown",
   "metadata": {},
   "source": [
    "# 3.\tWrite a Python program to find smallest number in a list?"
   ]
  },
  {
   "cell_type": "code",
   "execution_count": null,
   "metadata": {},
   "outputs": [],
   "source": [
    "def min_array(arr):\n",
    "    max = arr[0]\n",
    "    for i in arr:\n",
    "        if max > i:\n",
    "            max =i\n",
    "    return max\n",
    "\n",
    "l = []\n",
    "n = int(input(\"Enter the number of element you want to insert : \"))\n",
    "for i in range(n):\n",
    "    a = int(input(\"Enter  Number : \"))\n",
    "    l.append(a)\n",
    "    \n",
    "print(\"Small  element in lsit is : \",min_array(l))"
   ]
  },
  {
   "cell_type": "code",
   "execution_count": null,
   "metadata": {},
   "outputs": [],
   "source": []
  },
  {
   "cell_type": "markdown",
   "metadata": {},
   "source": [
    "# 4.\tWrite a Python program to find largest number in a list?"
   ]
  },
  {
   "cell_type": "code",
   "execution_count": null,
   "metadata": {},
   "outputs": [],
   "source": [
    "def max_array(arr):\n",
    "    max = arr[0]\n",
    "    for i in arr:\n",
    "        if max < i:\n",
    "            max =i\n",
    "    return max\n",
    "\n",
    "l = []\n",
    "n = int(input(\"Enter the number of element you want to insert : \"))\n",
    "for i in range(n):\n",
    "    a = int(input(\"Enter  Number : \"))\n",
    "    l.append(a)\n",
    "    \n",
    "print(\"Max the element in lsit is : \",max_array(l))"
   ]
  },
  {
   "cell_type": "code",
   "execution_count": null,
   "metadata": {},
   "outputs": [],
   "source": []
  },
  {
   "cell_type": "markdown",
   "metadata": {},
   "source": [
    "# 5.\tWrite a Python program to find second largest number in a list?"
   ]
  },
  {
   "cell_type": "code",
   "execution_count": 11,
   "metadata": {},
   "outputs": [
    {
     "name": "stdout",
     "output_type": "stream",
     "text": [
      "Enter the number of element you want to insert : 5\n",
      "Enter  Number : 1\n",
      "Enter  Number : 1\n",
      "Enter  Number : 1\n",
      "Enter  Number : 1\n",
      "Enter  Number : 1\n",
      "No 2nd max element\n"
     ]
    }
   ],
   "source": [
    "def max_sec_array(arr):\n",
    "    \n",
    "    l = set(arr)\n",
    "    arr = list(l)\n",
    "    arr.sort()\n",
    "    if  len(arr) == 1:\n",
    "        print(\"No 2nd max element\")\n",
    "    else:\n",
    "        print(\"Second max element  is : \",arr[-2])\n",
    "    \n",
    "   \n",
    "\n",
    "l = []\n",
    "n = int(input(\"Enter the number of element you want to insert : \"))\n",
    "for i in range(n):\n",
    "    a = int(input(\"Enter  Number : \"))\n",
    "    l.append(a)\n",
    "max_sec_array(l)   \n"
   ]
  },
  {
   "cell_type": "code",
   "execution_count": null,
   "metadata": {},
   "outputs": [],
   "source": []
  },
  {
   "cell_type": "markdown",
   "metadata": {},
   "source": [
    "# 6.\tWrite a Python program to find N largest elements from a list?"
   ]
  },
  {
   "cell_type": "code",
   "execution_count": null,
   "metadata": {},
   "outputs": [],
   "source": [
    "l = []\n",
    "l."
   ]
  },
  {
   "cell_type": "code",
   "execution_count": 22,
   "metadata": {},
   "outputs": [
    {
     "name": "stdout",
     "output_type": "stream",
     "text": [
      "85\n",
      "41\n"
     ]
    }
   ],
   "source": [
    "def max_n_array(arr,n):\n",
    "    \n",
    "   \n",
    "    \n",
    "    arr.sort()\n",
    "    arr = arr[::-1]\n",
    "    for i in range(n):\n",
    "        print(arr[i])\n",
    "   \n",
    "\n",
    "#l = []\n",
    "#n = int(input(\"Enter the number of element you want to insert : \"))\n",
    "#for i in range(n):\n",
    " #   a = int(input(\"Enter  Number : \"))\n",
    " #   l.append(a)\n",
    "list1 = [2, 6, 41, 85, 0, 3, 7, 6, 10]\n",
    "N = 2\n",
    "max_n_array(list1,N)   \n"
   ]
  },
  {
   "cell_type": "code",
   "execution_count": 19,
   "metadata": {},
   "outputs": [
    {
     "name": "stdout",
     "output_type": "stream",
     "text": [
      "[85, 85]\n"
     ]
    }
   ],
   "source": [
    "def Nmaxelements(list1, N):\n",
    "    final_list = []\n",
    "  \n",
    "    for i in range(0, N): \n",
    "        max1 = 0\n",
    "          \n",
    "        for j in range(len(list1)):     \n",
    "            if list1[j] > max1:\n",
    "                max1 = list1[j];\n",
    "                  \n",
    "        list1.remove(max1);\n",
    "        final_list.append(max1)\n",
    "          \n",
    "    print(final_list)\n",
    "  \n",
    "# Driver code\n",
    "list1 = [2, 6, 41, 85, 0, 3, 7, 6, 10]\n",
    "N = 2\n",
    "  \n",
    "# Calling the function\n",
    "Nmaxelements(list1, N)"
   ]
  },
  {
   "cell_type": "markdown",
   "metadata": {},
   "source": [
    "# 7.\tWrite a Python program to print even numbers in a list?"
   ]
  },
  {
   "cell_type": "code",
   "execution_count": null,
   "metadata": {},
   "outputs": [],
   "source": [
    "def even_array(arr):\n",
    "    \n",
    "    for i in arr:\n",
    "        if i%2==0:\n",
    "            print(i)\n",
    "\n",
    "\n",
    "l = []\n",
    "n = int(input(\"Enter the number of element you want to insert : \"))\n",
    "for i in range(n):\n",
    "    a = int(input(\"Enter  Number : \"))\n",
    "    l.append(a)\n",
    "    \n",
    "print(\"Max the element in lsit is : \",even_array(l))"
   ]
  },
  {
   "cell_type": "code",
   "execution_count": null,
   "metadata": {},
   "outputs": [],
   "source": []
  },
  {
   "cell_type": "markdown",
   "metadata": {},
   "source": [
    "# 8.\tWrite a Python program to print odd numbers in a List?"
   ]
  },
  {
   "cell_type": "code",
   "execution_count": null,
   "metadata": {},
   "outputs": [],
   "source": [
    "def max_array(arr):\n",
    "    \n",
    "    for i in arr:\n",
    "        if i%2!=0:\n",
    "            print(i)\n",
    "\n",
    "\n",
    "l = []\n",
    "n = int(input(\"Enter the number of element you want to insert : \"))\n",
    "for i in range(n):\n",
    "    a = int(input(\"Enter  Number : \"))\n",
    "    l.append(a)\n",
    "    \n",
    "print(\"Max the element in lsit is : \",max_array(l))"
   ]
  },
  {
   "cell_type": "code",
   "execution_count": null,
   "metadata": {},
   "outputs": [],
   "source": []
  },
  {
   "cell_type": "markdown",
   "metadata": {},
   "source": [
    "# 9.\tWrite a Python program to Remove empty List from List?"
   ]
  },
  {
   "cell_type": "code",
   "execution_count": 17,
   "metadata": {},
   "outputs": [
    {
     "data": {
      "text/plain": [
       "[1, 56, 65, 515, 468, 486]"
      ]
     },
     "execution_count": 17,
     "metadata": {},
     "output_type": "execute_result"
    }
   ],
   "source": [
    "def re_list(arr):\n",
    "    l=[]\n",
    "    for i in range(len(arr)):\n",
    "        if type(arr[i]) == list:\n",
    "            if len(arr[i]) == 0:\n",
    "                pass\n",
    "        else:\n",
    "            l.append(arr[i])\n",
    "                \n",
    "                \n",
    "    return l\n",
    "                   \n",
    "a = re_list([[],1,56,65,515,[],468,[],486])\n",
    "a                  "
   ]
  },
  {
   "cell_type": "code",
   "execution_count": null,
   "metadata": {},
   "outputs": [],
   "source": []
  },
  {
   "cell_type": "markdown",
   "metadata": {},
   "source": [
    "# 10.\tWrite a Python program to Cloning or Copying a list?"
   ]
  },
  {
   "cell_type": "code",
   "execution_count": 12,
   "metadata": {},
   "outputs": [
    {
     "data": {
      "text/plain": [
       "[15, 8, 546, 84, 56, 84, 1, 65, 56, 561]"
      ]
     },
     "execution_count": 12,
     "metadata": {},
     "output_type": "execute_result"
    }
   ],
   "source": [
    "def list_copy(arr):\n",
    "    l = []\n",
    "    for i in range(len(arr)):\n",
    "        l[i]= arr[i]\n",
    "    return l\n",
    "\n",
    "a = [15,8,546,84,56,84,1,65,56,561]\n",
    "a\n",
    "    "
   ]
  },
  {
   "cell_type": "code",
   "execution_count": null,
   "metadata": {},
   "outputs": [],
   "source": []
  },
  {
   "cell_type": "markdown",
   "metadata": {},
   "source": [
    "# 11.\tWrite a Python program to Count occurrences of an element in a list?\n"
   ]
  },
  {
   "cell_type": "code",
   "execution_count": null,
   "metadata": {},
   "outputs": [],
   "source": []
  },
  {
   "cell_type": "code",
   "execution_count": 13,
   "metadata": {},
   "outputs": [
    {
     "name": "stdout",
     "output_type": "stream",
     "text": [
      "1    3\n",
      "2    3\n",
      "3    1\n",
      "4    1\n",
      "5    1\n"
     ]
    }
   ],
   "source": [
    " arr = [1,2,3,4,5,1,1,2,2]\n",
    "\n",
    "a = set(arr)\n",
    "a = list(a)\n",
    "for i in a:\n",
    "    print(i, \"  \",arr.count(i))\n",
    "\n",
    "\n",
    " \n",
    "            \n",
    "#l      "
   ]
  },
  {
   "cell_type": "code",
   "execution_count": null,
   "metadata": {},
   "outputs": [],
   "source": []
  }
 ],
 "metadata": {
  "kernelspec": {
   "display_name": "Python 3",
   "language": "python",
   "name": "python3"
  },
  "language_info": {
   "codemirror_mode": {
    "name": "ipython",
    "version": 3
   },
   "file_extension": ".py",
   "mimetype": "text/x-python",
   "name": "python",
   "nbconvert_exporter": "python",
   "pygments_lexer": "ipython3",
   "version": "3.8.5"
  }
 },
 "nbformat": 4,
 "nbformat_minor": 4
}
