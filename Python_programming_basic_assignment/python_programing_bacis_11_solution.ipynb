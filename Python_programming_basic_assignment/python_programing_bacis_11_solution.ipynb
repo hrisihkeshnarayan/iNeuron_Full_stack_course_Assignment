{
 "cells": [
  {
   "cell_type": "markdown",
   "metadata": {},
   "source": [
    "# HRISHIKESH NARAYAN"
   ]
  },
  {
   "cell_type": "code",
   "execution_count": null,
   "metadata": {},
   "outputs": [],
   "source": []
  },
  {
   "cell_type": "markdown",
   "metadata": {},
   "source": [
    "# 1.\tWrite a Python program to find words which are greater than given length k?"
   ]
  },
  {
   "cell_type": "code",
   "execution_count": 1,
   "metadata": {},
   "outputs": [
    {
     "name": "stdout",
     "output_type": "stream",
     "text": [
      "Enter a word you want to insert :5\n",
      "Enter string : \n",
      "ankit\n",
      "Enter string : \n",
      "ayu\n",
      "Enter string : \n",
      "ayush\n",
      "Enter string : \n",
      "prince\n",
      "Enter string : \n",
      "a\n",
      "Enter a number you want  find words which are greater than given length :3\n",
      "ankit\n",
      "ayush\n",
      "prince\n"
     ]
    }
   ],
   "source": [
    "num = int(input(\"Enter a word you want to insert :\"))\n",
    "l = []\n",
    "for i in range(num):\n",
    "    print(\"Enter string : \")\n",
    "    a = input()\n",
    "    l.append(a)\n",
    "k = int(input(\"Enter a number you want  find words which are greater than given length :\"))\n",
    "for i in l:\n",
    "    if len(i)>k:\n",
    "        print(i)"
   ]
  },
  {
   "cell_type": "markdown",
   "metadata": {},
   "source": [
    "# 2.\tWrite a Python program for removing i-th character from a string?"
   ]
  },
  {
   "cell_type": "code",
   "execution_count": 9,
   "metadata": {},
   "outputs": [
    {
     "name": "stdout",
     "output_type": "stream",
     "text": [
      "hrishikesh narayan\n",
      "Enter index :1\n"
     ]
    },
    {
     "data": {
      "text/plain": [
       "'hishikesh narayan'"
      ]
     },
     "execution_count": 9,
     "metadata": {},
     "output_type": "execute_result"
    }
   ],
   "source": [
    "s = input()\n",
    "n = int(input(\"Enter index :\"))\n",
    "l = []\n",
    "for i in s:\n",
    "    l.append(i)\n",
    "\n",
    "l.pop(n)\n",
    "s = \"\".join(l)\n",
    "s\n",
    "\n",
    "\n"
   ]
  },
  {
   "cell_type": "code",
   "execution_count": null,
   "metadata": {},
   "outputs": [],
   "source": []
  },
  {
   "cell_type": "markdown",
   "metadata": {},
   "source": [
    "# 3.\tWrite a Python program to split and join a string?"
   ]
  },
  {
   "cell_type": "code",
   "execution_count": 10,
   "metadata": {},
   "outputs": [
    {
     "name": "stdout",
     "output_type": "stream",
     "text": [
      "hrishikesh narayan\n",
      "['h', 'i', 's', 'h', 'i', 'k', 'e', 's', 'h', ' ', 'n', 'a', 'r', 'a', 'y', 'a', 'n']\n",
      "hishikesh narayan\n"
     ]
    }
   ],
   "source": [
    "s = input()\n",
    "\n",
    "l = []\n",
    "for i in s:\n",
    "    l.append(i)\n",
    "\n",
    "l.pop(n)\n",
    "s = \"\".join(l)\n",
    "print(l)\n",
    "print(s)\n",
    "\n",
    "\n",
    "\n",
    "\n"
   ]
  },
  {
   "cell_type": "markdown",
   "metadata": {},
   "source": [
    "# 4.\tWrite a Python to check if a given string is binary string or not?"
   ]
  },
  {
   "cell_type": "code",
   "execution_count": 17,
   "metadata": {},
   "outputs": [
    {
     "name": "stdout",
     "output_type": "stream",
     "text": [
      "Yes\n"
     ]
    }
   ],
   "source": [
    "def check_1(string) :\n",
    "    p = set(string)\n",
    "  \n",
    "    s = {'0', '1'}\n",
    "  \n",
    "\n",
    "    if s == p or p == {'0'} or p == {'1'}:\n",
    "        print(\"Yes\")\n",
    "    else :\n",
    "        print(\"No\")\n",
    "    \n",
    "check_1(\"10101010010\")\n"
   ]
  },
  {
   "cell_type": "code",
   "execution_count": null,
   "metadata": {},
   "outputs": [],
   "source": []
  },
  {
   "cell_type": "markdown",
   "metadata": {},
   "source": [
    "# 5.\tWrite a Python program to find uncommon words from two Strings?"
   ]
  },
  {
   "cell_type": "code",
   "execution_count": 18,
   "metadata": {},
   "outputs": [
    {
     "name": "stdout",
     "output_type": "stream",
     "text": [
      " apple fruits\n"
     ]
    }
   ],
   "source": [
    "def uncommon(a,b):\n",
    "    list_a = a.split()\n",
    "    list_b = b.split()\n",
    "    uc = ''\n",
    "    for i in list_a:\n",
    "        if i not in list_b:\n",
    "            uc = uc+\" \"+i\n",
    "    for j in list_b:\n",
    "        if j not in list_a:\n",
    "            uc = uc+\" \"+j\n",
    "  \n",
    "    return uc\n",
    "  \n",
    "\n",
    "a = \"apple banana mango\"\n",
    "b = \"banana fruits mango\"\n",
    "print(uncommon(a,b))"
   ]
  },
  {
   "cell_type": "markdown",
   "metadata": {},
   "source": [
    "# 6.\tWrite a Python to find all duplicate characters in string?"
   ]
  },
  {
   "cell_type": "code",
   "execution_count": 3,
   "metadata": {},
   "outputs": [
    {
     "name": "stdout",
     "output_type": "stream",
     "text": [
      "Duplicate characters in a given string: \n",
      "r\n",
      "e\n",
      "t\n",
      "s\n",
      "i\n"
     ]
    }
   ],
   "source": [
    "string = \"Great responsibility\";  \n",
    "   \n",
    "print(\"Duplicate characters in a given string: \");  \n",
    "\n",
    "for i in range(0, len(string)):  \n",
    "    count = 1;  \n",
    "    for j in range(i+1, len(string)):  \n",
    "        if(string[i] == string[j] and string[i] != ' '):  \n",
    "            count = count + 1;  \n",
    "            \n",
    "            string = string[:j] + '0' + string[j+1:];  \n",
    "   \n",
    "    \n",
    "    if(count > 1 and string[i] != '0'):  \n",
    "        print(string[i]);  "
   ]
  },
  {
   "cell_type": "markdown",
   "metadata": {},
   "source": [
    "# 7.\tWrite a Python Program to check if a string contains any special character?\n"
   ]
  },
  {
   "cell_type": "code",
   "execution_count": 4,
   "metadata": {},
   "outputs": [
    {
     "name": "stdout",
     "output_type": "stream",
     "text": [
      "String is not accepted.\n"
     ]
    }
   ],
   "source": [
    "import re\n",
    "  \n",
    "def run(string):\n",
    "    regex = re.compile('[@_!#$%^&*()<>?/\\|}{~:]')  \n",
    "    if(regex.search(string) == None):\n",
    "        print(\"String is accepted\")\n",
    "          \n",
    "    else:\n",
    "        print(\"String is not accepted.\")\n",
    "      \n",
    "  \n",
    "\n",
    "string = \"Geeks$For$Geeks\"\n",
    "run(string)"
   ]
  },
  {
   "cell_type": "code",
   "execution_count": null,
   "metadata": {},
   "outputs": [],
   "source": []
  }
 ],
 "metadata": {
  "kernelspec": {
   "display_name": "Python 3",
   "language": "python",
   "name": "python3"
  },
  "language_info": {
   "codemirror_mode": {
    "name": "ipython",
    "version": 3
   },
   "file_extension": ".py",
   "mimetype": "text/x-python",
   "name": "python",
   "nbconvert_exporter": "python",
   "pygments_lexer": "ipython3",
   "version": "3.8.5"
  }
 },
 "nbformat": 4,
 "nbformat_minor": 4
}
