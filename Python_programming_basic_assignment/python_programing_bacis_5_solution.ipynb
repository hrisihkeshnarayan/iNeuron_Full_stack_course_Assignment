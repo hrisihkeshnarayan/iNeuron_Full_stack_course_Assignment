{
 "cells": [
  {
   "cell_type": "markdown",
   "metadata": {},
   "source": [
    "# HRISHIKESH NARAYAN"
   ]
  },
  {
   "cell_type": "code",
   "execution_count": null,
   "metadata": {},
   "outputs": [],
   "source": []
  },
  {
   "cell_type": "code",
   "execution_count": null,
   "metadata": {},
   "outputs": [],
   "source": []
  },
  {
   "cell_type": "markdown",
   "metadata": {},
   "source": [
    "# 1.Write a Python Program to Find LCM?"
   ]
  },
  {
   "cell_type": "code",
   "execution_count": 10,
   "metadata": {},
   "outputs": [
    {
     "name": "stdout",
     "output_type": "stream",
     "text": [
      "Enter a 5\n",
      "Enter b 25\n",
      "LCM of both number is :  25\n"
     ]
    }
   ],
   "source": [
    "a = int(input(\"Enter a \" ))\n",
    "b = int(input(\"Enter b \" ))\n",
    "c = 0\n",
    "if a>b:\n",
    "    c=a\n",
    "else:\n",
    "    c=b\n",
    "for i in range(c,a*b):\n",
    "    if i%a==0 and i%b==0:\n",
    "        print(\"LCM of both number is : \",i)\n",
    "        break;"
   ]
  },
  {
   "cell_type": "code",
   "execution_count": null,
   "metadata": {},
   "outputs": [],
   "source": []
  },
  {
   "cell_type": "markdown",
   "metadata": {},
   "source": [
    "# 2.Write a Python Program to Find HCF?"
   ]
  },
  {
   "cell_type": "code",
   "execution_count": 9,
   "metadata": {},
   "outputs": [
    {
     "name": "stdout",
     "output_type": "stream",
     "text": [
      "Enter a 54\n",
      "Enter b 24\n",
      "LCM of both number is :  6\n"
     ]
    }
   ],
   "source": [
    "a = int(input(\"Enter a \" ))\n",
    "b = int(input(\"Enter b \" ))\n",
    "small = 0\n",
    "large = 0\n",
    "if a>=b:\n",
    "    small = b\n",
    "    \n",
    "else:\n",
    "    small = a\n",
    "    \n",
    "for i in range(2,small+1):\n",
    "    if a%i==0 and b%i==0:\n",
    "        \n",
    "        large = i\n",
    "\n",
    "print(\"LCM of both number is : \",large)\n",
    "        "
   ]
  },
  {
   "cell_type": "code",
   "execution_count": null,
   "metadata": {},
   "outputs": [],
   "source": []
  },
  {
   "cell_type": "markdown",
   "metadata": {},
   "source": [
    "# 3.Write a Python Program to Convert Decimal to Binary, Octal and Hexadecimal?"
   ]
  },
  {
   "cell_type": "code",
   "execution_count": null,
   "metadata": {},
   "outputs": [],
   "source": []
  },
  {
   "cell_type": "markdown",
   "metadata": {},
   "source": [
    "# 4.Write a Python Program To Find ASCII value of a character?"
   ]
  },
  {
   "cell_type": "code",
   "execution_count": 9,
   "metadata": {},
   "outputs": [
    {
     "name": "stdout",
     "output_type": "stream",
     "text": [
      "Enter a number :A\n",
      "The ASCII value of 'A' is 65\n"
     ]
    }
   ],
   "source": [
    "a= input(\"Enter a number :\")\n",
    "\n",
    "print(\"The ASCII value of '\" + a + \"' is\", ord(a))"
   ]
  },
  {
   "cell_type": "markdown",
   "metadata": {},
   "source": [
    "# 5.Write a Python Program to Make a Simple Calculator with 4 basic mathematical operations?\n"
   ]
  },
  {
   "cell_type": "code",
   "execution_count": 3,
   "metadata": {},
   "outputs": [
    {
     "name": "stdout",
     "output_type": "stream",
     "text": [
      "Enter first number :25\n",
      "Enter second number 5\n",
      "Enter operation you want to do this number : \n",
      "1.ADD(+)\n",
      "2.SUB(-)\n",
      "3.MUL(*)\n",
      "4.DIV(/)\n",
      "-\n",
      "Subtraction of Both number is :  20\n",
      "Enter 1 for continue and 0 for exit 1\n",
      "Enter first number :88\n",
      "Enter second number 66\n",
      "Enter operation you want to do this number : \n",
      "1.ADD(+)\n",
      "2.SUB(-)\n",
      "3.MUL(*)\n",
      "4.DIV(/)\n",
      "+\n",
      "Sum of Both number is :  154\n",
      "Enter 1 for continue and 0 for exit 0\n"
     ]
    }
   ],
   "source": [
    "t = 1\n",
    "while(t):\n",
    "    \n",
    "    num1 = int(input(\"Enter first number :\"))\n",
    "    num2 = int(input(\"Enter second number \"))\n",
    "    print(\"Enter operation you want to do this number : \")\n",
    "    print(\"1.ADD(+)\")\n",
    "    print(\"2.SUB(-)\")\n",
    "    print(\"3.MUL(*)\")\n",
    "    print(\"4.DIV(/)\")\n",
    "    char = input()\n",
    "    \n",
    "    if char ==  \"+\":\n",
    "        print(\"Sum of Both number is : \",num1 + num2)\n",
    "           \n",
    "    elif char == \"-\":\n",
    "        print(\"Subtraction of Both number is : \",num1 - num2)\n",
    "            \n",
    "    elif char == \"*\":\n",
    "        print(\"Multiplication of Both number is : \",num1 * num2)\n",
    "             \n",
    "    elif char == \"/\":\n",
    "        print(\"Division of Both number is : \",num1 / num2)\n",
    "            \n",
    "    else:\n",
    "        print(\"Wrong operation\")\n",
    "        \n",
    "    t = int(input(\"Enter 1 for continue and 0 for exit \"))\n",
    "    \n",
    "            \n"
   ]
  },
  {
   "cell_type": "code",
   "execution_count": null,
   "metadata": {},
   "outputs": [],
   "source": []
  }
 ],
 "metadata": {
  "kernelspec": {
   "display_name": "Python 3",
   "language": "python",
   "name": "python3"
  },
  "language_info": {
   "codemirror_mode": {
    "name": "ipython",
    "version": 3
   },
   "file_extension": ".py",
   "mimetype": "text/x-python",
   "name": "python",
   "nbconvert_exporter": "python",
   "pygments_lexer": "ipython3",
   "version": "3.8.5"
  }
 },
 "nbformat": 4,
 "nbformat_minor": 4
}
